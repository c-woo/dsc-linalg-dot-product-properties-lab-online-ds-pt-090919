{
 "cells": [
  {
   "cell_type": "markdown",
   "metadata": {},
   "source": [
    "# Properties of Dot Product - Lab\n",
    "\n",
    "## Introduction\n",
    "\n",
    "In this lab, you'll be practicing some interesting properties of a dot product-type matrix multiplication. Understanding these properties will become useful as you study machine learning. The lab will require you to calculate results to provide a proof for these properties.\n",
    "\n",
    "## Objectives\n",
    "\n",
    "In this lab you will: \n",
    "\n",
    "- Demonstrate the distributive, commutative, and associative property of dot products \n",
    "- Use the transpose method to transpose Numpy matrices \n",
    "- Compute the dot product for matrices and vectors \n",
    "\n",
    "\n",
    "## Instructions\n",
    "\n",
    "* For each property, create suitably sized matrices with random data to prove the equations \n",
    "* Ensure that size/dimension assumptions are met while performing calculations (you'll see errors otherwise)\n",
    "* Calculate the LHS and RHS for all equations and show if they are equal or not\n",
    "\n",
    "## Distributive Property - matrix multiplication IS distributive\n",
    "\n",
    "### Prove that $A \\cdot (B+C) = (A \\cdot B + A \\cdot C) $"
   ]
  },
  {
   "cell_type": "code",
   "execution_count": 1,
   "metadata": {},
   "outputs": [],
   "source": [
    "import numpy as np"
   ]
  },
  {
   "cell_type": "code",
   "execution_count": 3,
   "metadata": {},
   "outputs": [
    {
     "name": "stdout",
     "output_type": "stream",
     "text": [
      "A\n",
      " [[ 2  2 10  8]\n",
      " [ 6  3  7  8]] \n",
      "\n",
      "B\n",
      " [[ 6  8  2 11 15]\n",
      " [18 10 14  3 16]\n",
      " [ 6 10 10 13  3]\n",
      " [ 5  4  3 19  2]] \n",
      "\n",
      "C\n",
      " [[ 7  7  3  8  8]\n",
      " [ 3 14  6 14  9]\n",
      " [ 1  1 11  2  8]\n",
      " [ 7  9  0  2 10]] \n",
      "\n"
     ]
    }
   ],
   "source": [
    "# Your code here\n",
    "A = np.random.randint(0, 11, size=(2, 4))\n",
    "B = np.random.randint(0, 20, size=(4, 5))\n",
    "C = np.random.randint(0, 15, size=(4, 5))\n",
    "print('A\\n', A, '\\n')\n",
    "print('B\\n', B, '\\n')\n",
    "print('C\\n', C, '\\n')"
   ]
  },
  {
   "cell_type": "code",
   "execution_count": 5,
   "metadata": {},
   "outputs": [
    {
     "data": {
      "text/plain": [
       "array([[ True,  True,  True,  True,  True],\n",
       "       [ True,  True,  True,  True,  True]])"
      ]
     },
     "execution_count": 5,
     "metadata": {},
     "output_type": "execute_result"
    }
   ],
   "source": [
    "A.dot(B + C) == (A.dot(B) + A.dot(C))"
   ]
  },
  {
   "cell_type": "code",
   "execution_count": 7,
   "metadata": {},
   "outputs": [
    {
     "name": "stdout",
     "output_type": "stream",
     "text": [
      "[[234 292 284 390 302]\n",
      " [286 343 261 438 386]]\n",
      "[[234 292 284 390 302]\n",
      " [286 343 261 438 386]]\n"
     ]
    }
   ],
   "source": [
    "print(A.dot(B + C))\n",
    "print(A.dot(B) + A.dot(C))"
   ]
  },
  {
   "cell_type": "markdown",
   "metadata": {},
   "source": [
    "## Associative Property - matrix multiplication IS associative\n",
    "### Prove that $A \\cdot (B \\cdot C) = (A \\cdot B) \\cdot C $"
   ]
  },
  {
   "cell_type": "code",
   "execution_count": 8,
   "metadata": {},
   "outputs": [
    {
     "name": "stdout",
     "output_type": "stream",
     "text": [
      "A\n",
      " [[ 5  8  1 10]\n",
      " [ 8  8  8  9]] \n",
      "\n",
      "B\n",
      " [[ 7  4 17 17 13]\n",
      " [ 8 19  5  9  8]\n",
      " [15  9  5  5 14]\n",
      " [18  2 17 12 13]] \n",
      "\n",
      "C\n",
      " [[ 3  4]\n",
      " [ 0 14]\n",
      " [ 9 10]\n",
      " [11  8]\n",
      " [ 8  7]] \n",
      "\n"
     ]
    }
   ],
   "source": [
    "# Your code here \n",
    "A = np.random.randint(0, 11, size=(2, 4))\n",
    "B = np.random.randint(0, 20, size=(4, 5))\n",
    "C = np.random.randint(0, 15, size=(5, 2))\n",
    "print('A\\n', A, '\\n')\n",
    "print('B\\n', B, '\\n')\n",
    "print('C\\n', C, '\\n')"
   ]
  },
  {
   "cell_type": "code",
   "execution_count": 10,
   "metadata": {},
   "outputs": [
    {
     "data": {
      "text/plain": [
       "array([[ True,  True],\n",
       "       [ True,  True]])"
      ]
     },
     "execution_count": 10,
     "metadata": {},
     "output_type": "execute_result"
    }
   ],
   "source": [
    "A.dot(B.dot(C)) == (A.dot(B)).dot(C)"
   ]
  },
  {
   "cell_type": "code",
   "execution_count": 11,
   "metadata": {},
   "outputs": [
    {
     "name": "stdout",
     "output_type": "stream",
     "text": [
      "[[ 8868 11157]\n",
      " [11619 14761]]\n",
      "[[ 8868 11157]\n",
      " [11619 14761]]\n"
     ]
    }
   ],
   "source": [
    "print(A.dot(B.dot(C)))\n",
    "print(A.dot(B).dot(C))"
   ]
  },
  {
   "cell_type": "markdown",
   "metadata": {},
   "source": [
    "## Commutative Property - matrix multiplication is NOT commutative\n",
    "### Prove that for matrices, $A \\cdot B \\neq B \\cdot A $"
   ]
  },
  {
   "cell_type": "code",
   "execution_count": 12,
   "metadata": {
    "scrolled": true
   },
   "outputs": [
    {
     "name": "stdout",
     "output_type": "stream",
     "text": [
      "A\n",
      " [[ 9  0  5  1]\n",
      " [ 5  7  4 10]] \n",
      "\n",
      "B\n",
      " [[ 5 10  5  7 19]\n",
      " [ 7  5  5  6 14]\n",
      " [ 4  1  0 10 18]\n",
      " [ 8 16  5  1  9]] \n",
      "\n"
     ]
    }
   ],
   "source": [
    "# Your code here \n",
    "A = np.random.randint(0, 11, size=(2, 4))\n",
    "B = np.random.randint(0, 20, size=(4, 5))\n",
    "\n",
    "print('A\\n', A, '\\n')\n",
    "print('B\\n', B, '\\n')"
   ]
  },
  {
   "cell_type": "code",
   "execution_count": 13,
   "metadata": {},
   "outputs": [
    {
     "ename": "ValueError",
     "evalue": "shapes (4,5) and (2,4) not aligned: 5 (dim 1) != 2 (dim 0)",
     "output_type": "error",
     "traceback": [
      "\u001b[1;31m---------------------------------------------------------------------------\u001b[0m",
      "\u001b[1;31mValueError\u001b[0m                                Traceback (most recent call last)",
      "\u001b[1;32m<ipython-input-13-2666fe43b25e>\u001b[0m in \u001b[0;36m<module>\u001b[1;34m()\u001b[0m\n\u001b[1;32m----> 1\u001b[1;33m \u001b[0mA\u001b[0m\u001b[1;33m.\u001b[0m\u001b[0mdot\u001b[0m\u001b[1;33m(\u001b[0m\u001b[0mB\u001b[0m\u001b[1;33m)\u001b[0m \u001b[1;33m!=\u001b[0m \u001b[0mB\u001b[0m\u001b[1;33m.\u001b[0m\u001b[0mdot\u001b[0m\u001b[1;33m(\u001b[0m\u001b[0mA\u001b[0m\u001b[1;33m)\u001b[0m\u001b[1;33m\u001b[0m\u001b[0m\n\u001b[0m",
      "\u001b[1;31mValueError\u001b[0m: shapes (4,5) and (2,4) not aligned: 5 (dim 1) != 2 (dim 0)"
     ]
    }
   ],
   "source": [
    "A.dot(B) != B.dot(A)"
   ]
  },
  {
   "cell_type": "code",
   "execution_count": 23,
   "metadata": {},
   "outputs": [
    {
     "name": "stdout",
     "output_type": "stream",
     "text": [
      "[[ 73 111  50 114 270]\n",
      " [170 249 110 127 355]]\n"
     ]
    },
    {
     "ename": "ValueError",
     "evalue": "shapes (4,5) and (2,4) not aligned: 5 (dim 1) != 2 (dim 0)",
     "output_type": "error",
     "traceback": [
      "\u001b[1;31m---------------------------------------------------------------------------\u001b[0m",
      "\u001b[1;31mValueError\u001b[0m                                Traceback (most recent call last)",
      "\u001b[1;32m<ipython-input-23-b7f0b8816b55>\u001b[0m in \u001b[0;36m<module>\u001b[1;34m()\u001b[0m\n\u001b[0;32m      1\u001b[0m \u001b[0mprint\u001b[0m\u001b[1;33m(\u001b[0m\u001b[0mA\u001b[0m\u001b[1;33m.\u001b[0m\u001b[0mdot\u001b[0m\u001b[1;33m(\u001b[0m\u001b[0mB\u001b[0m\u001b[1;33m)\u001b[0m\u001b[1;33m)\u001b[0m\u001b[1;33m\u001b[0m\u001b[0m\n\u001b[1;32m----> 2\u001b[1;33m \u001b[0mprint\u001b[0m\u001b[1;33m(\u001b[0m\u001b[0mB\u001b[0m\u001b[1;33m.\u001b[0m\u001b[0mdot\u001b[0m\u001b[1;33m(\u001b[0m\u001b[0mA\u001b[0m\u001b[1;33m)\u001b[0m\u001b[1;33m)\u001b[0m\u001b[1;33m\u001b[0m\u001b[0m\n\u001b[0m",
      "\u001b[1;31mValueError\u001b[0m: shapes (4,5) and (2,4) not aligned: 5 (dim 1) != 2 (dim 0)"
     ]
    }
   ],
   "source": [
    "print(A.dot(B))\n",
    "print(B.dot(A))"
   ]
  },
  {
   "cell_type": "markdown",
   "metadata": {},
   "source": [
    "## Commutative Property -  vector multiplication IS commutative\n",
    "### Prove that for vectors,  $x^T \\cdot y = y^T \\cdot x$\n",
    "Note: superscipt<sup>T</sup> denotes the transpose we saw earlier"
   ]
  },
  {
   "cell_type": "code",
   "execution_count": 20,
   "metadata": {},
   "outputs": [
    {
     "name": "stdout",
     "output_type": "stream",
     "text": [
      "x\n",
      " [12 11  5  1] \n",
      "\n",
      "y\n",
      " [8 3 9 8] \n",
      "\n"
     ]
    }
   ],
   "source": [
    "# Your code here \n",
    "x = np.random.randint(15, size=(4))\n",
    "y = np.random.randint(15, size=(4))\n",
    "\n",
    "print('x\\n', x, '\\n')\n",
    "print('y\\n', y, '\\n')"
   ]
  },
  {
   "cell_type": "code",
   "execution_count": 22,
   "metadata": {},
   "outputs": [
    {
     "data": {
      "text/plain": [
       "True"
      ]
     },
     "execution_count": 22,
     "metadata": {},
     "output_type": "execute_result"
    }
   ],
   "source": [
    "np.transpose(x).dot(y) == np.transpose(y).dot(x)"
   ]
  },
  {
   "cell_type": "markdown",
   "metadata": {},
   "source": [
    "## Simplification of the matrix product\n",
    "### Prove that $ (A \\cdot B)^T = B^T \\cdot A^T $"
   ]
  },
  {
   "cell_type": "code",
   "execution_count": 26,
   "metadata": {},
   "outputs": [
    {
     "name": "stdout",
     "output_type": "stream",
     "text": [
      "A\n",
      " [[ 3  4  0  8]\n",
      " [ 9  2 10  5]] \n",
      "\n",
      "B\n",
      " [[17  5  4 11  4]\n",
      " [ 8  9  4  2  1]\n",
      " [12  1 11 15  9]\n",
      " [16 14  1 19 18]] \n",
      "\n"
     ]
    }
   ],
   "source": [
    "# Your code here \n",
    "A = np.random.randint(0, 11, size=(2, 4))\n",
    "B = np.random.randint(0, 20, size=(4, 5))\n",
    "\n",
    "print('A\\n', A, '\\n')\n",
    "print('B\\n', B, '\\n')"
   ]
  },
  {
   "cell_type": "code",
   "execution_count": 27,
   "metadata": {},
   "outputs": [
    {
     "data": {
      "text/plain": [
       "array([[ True,  True],\n",
       "       [ True,  True],\n",
       "       [ True,  True],\n",
       "       [ True,  True],\n",
       "       [ True,  True]])"
      ]
     },
     "execution_count": 27,
     "metadata": {},
     "output_type": "execute_result"
    }
   ],
   "source": [
    "np.transpose(A.dot(B)) == np.transpose(B).dot(np.transpose(A))"
   ]
  },
  {
   "cell_type": "code",
   "execution_count": 28,
   "metadata": {},
   "outputs": [
    {
     "name": "stdout",
     "output_type": "stream",
     "text": [
      "[[211 369]\n",
      " [163 143]\n",
      " [ 36 159]\n",
      " [193 348]\n",
      " [160 218]]\n",
      "[[211 369]\n",
      " [163 143]\n",
      " [ 36 159]\n",
      " [193 348]\n",
      " [160 218]]\n"
     ]
    }
   ],
   "source": [
    "print(np.transpose(A.dot(B)))\n",
    "print(np.transpose(B).dot(np.transpose(A)))"
   ]
  },
  {
   "cell_type": "markdown",
   "metadata": {},
   "source": [
    "## Summary \n",
    "\n",
    "You've seen enough matrix algebra by now to solve a problem of linear equations as you saw earlier. You'll now see how to do this next. "
   ]
  }
 ],
 "metadata": {
  "kernelspec": {
   "display_name": "Python 3",
   "language": "python",
   "name": "python3"
  },
  "language_info": {
   "codemirror_mode": {
    "name": "ipython",
    "version": 3
   },
   "file_extension": ".py",
   "mimetype": "text/x-python",
   "name": "python",
   "nbconvert_exporter": "python",
   "pygments_lexer": "ipython3",
   "version": "3.6.6"
  }
 },
 "nbformat": 4,
 "nbformat_minor": 2
}
